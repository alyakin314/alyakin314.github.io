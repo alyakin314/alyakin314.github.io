{
 "cells": [
  {
   "cell_type": "code",
   "execution_count": 1,
   "metadata": {},
   "outputs": [],
   "source": [
    "%load_ext autoreload\n",
    "%autoreload 2\n",
    "%matplotlib inline \n",
    "import numpy as np\n",
    "from tqdm.notebook import tqdm\n",
    "import matplotlib.pyplot as plt\n",
    "from graspy.align import SeedlessProcrustes, SignFlips\n",
    "from graspy.inference import LatentDistributionTest\n",
    "from graspy.embed import AdjacencySpectralEmbed\n",
    "from graspy.simulations import sbm"
   ]
  },
  {
   "cell_type": "code",
   "execution_count": 2,
   "metadata": {},
   "outputs": [],
   "source": [
    "mc_iters = 1000"
   ]
  },
  {
   "cell_type": "code",
   "execution_count": 3,
   "metadata": {},
   "outputs": [
    {
     "data": {
      "application/vnd.jupyter.widget-view+json": {
       "model_id": "0114079a9000485b9bc5b5a172791241",
       "version_major": 2,
       "version_minor": 0
      },
      "text/plain": [
       "HBox(children=(FloatProgress(value=0.0, max=1000.0), HTML(value='')))"
      ]
     },
     "metadata": {},
     "output_type": "display_data"
    },
    {
     "name": "stdout",
     "output_type": "stream",
     "text": [
      "\n"
     ]
    }
   ],
   "source": [
    "signs_p_vals = np.zeros(mc_iters)\n",
    "for i in tqdm(range(mc_iters)):\n",
    "    n_1 = np.random.binomial(100, 0.5)\n",
    "    n_2 = np.random.binomial(100, 0.5)\n",
    "    ns_1 = [n_1, 100-n_1]\n",
    "    ns_2 = [n_2, 100-n_2]\n",
    "    P = [[0.9, 0.1], [0.1, 0.9]]\n",
    "    A = sbm(ns_1, P)\n",
    "    B = sbm(ns_2, P)\n",
    "    ldt = LatentDistributionTest(test=\"hsic\", \n",
    "                                metric=\"gaussian\",\n",
    "                                align_type=\"sign_flips\",\n",
    "                                n_components=2,\n",
    "                                workers=4)\n",
    "    signs_p_vals[i] = ldt.fit_predict(A, B)"
   ]
  },
  {
   "cell_type": "code",
   "execution_count": 4,
   "metadata": {},
   "outputs": [
    {
     "data": {
      "application/vnd.jupyter.widget-view+json": {
       "model_id": "1eb313698d114058bec26177ecf6c8de",
       "version_major": 2,
       "version_minor": 0
      },
      "text/plain": [
       "HBox(children=(FloatProgress(value=0.0, max=1000.0), HTML(value='')))"
      ]
     },
     "metadata": {},
     "output_type": "display_data"
    },
    {
     "name": "stdout",
     "output_type": "stream",
     "text": [
      "\n"
     ]
    }
   ],
   "source": [
    "seedless_p_vals = np.zeros(mc_iters)\n",
    "for i in tqdm(range(mc_iters)):\n",
    "    n_1 = np.random.binomial(100, 0.5)\n",
    "    n_2 = np.random.binomial(100, 0.5)\n",
    "    ns_1 = [n_1, 100-n_1]\n",
    "    ns_2 = [n_2, 100-n_2]\n",
    "    P = [[0.9, 0.1], [0.1, 0.9]]\n",
    "    A = sbm(ns_1, P)\n",
    "    B = sbm(ns_2, P)\n",
    "    ldt = LatentDistributionTest(test=\"hsic\", \n",
    "                                metric=\"gaussian\",\n",
    "                                align_type=\"seedless_procrustes\",\n",
    "                                n_components=2,\n",
    "                                workers=4)\n",
    "    seedless_p_vals[i] = ldt.fit_predict(A, B)"
   ]
  },
  {
   "cell_type": "code",
   "execution_count": 5,
   "metadata": {},
   "outputs": [
    {
     "data": {
      "text/plain": [
       "(0.466, 0.034)"
      ]
     },
     "execution_count": 5,
     "metadata": {},
     "output_type": "execute_result"
    }
   ],
   "source": [
    "# not valid with only sign flips\n",
    "(signs_p_vals < 0.05).mean(), (seedless_p_vals < 0.05).mean(), "
   ]
  },
  {
   "cell_type": "code",
   "execution_count": 6,
   "metadata": {},
   "outputs": [
    {
     "data": {
      "text/plain": [
       "(-1.0, 1.0)"
      ]
     },
     "execution_count": 6,
     "metadata": {},
     "output_type": "execute_result"
    },
    {
     "data": {
      "image/png": "[encoded data removed]",
      "text/plain": [
       "<Figure size 432x288 with 1 Axes>"
      ]
     },
     "metadata": {
      "needs_background": "light"
     },
     "output_type": "display_data"
    }
   ],
   "source": [
    "n_1 = np.random.binomial(100, 0.5)\n",
    "n_2 = np.random.binomial(100, 0.5)\n",
    "ns_1 = [n_1, 100-n_1]\n",
    "ns_2 = [n_2, 100-n_2]\n",
    "P = [[0.9, 0.1], [0.1, 0.9]]\n",
    "A = sbm(ns_1, P)\n",
    "B = sbm(ns_2, P)\n",
    "ase = AdjacencySpectralEmbed(n_components=2)\n",
    "X = ase.fit_transform(A)\n",
    "Y = ase.fit_transform(B)\n",
    "plt.scatter(X[:,0], X[:,1])\n",
    "plt.scatter(Y[:,0], Y[:,1])\n",
    "plt.xlim(-1, 1)\n",
    "plt.ylim(-1, 1)"
   ]
  },
  {
   "cell_type": "code",
   "execution_count": 7,
   "metadata": {},
   "outputs": [
    {
     "data": {
      "text/plain": [
       "(-1.0, 1.0)"
      ]
     },
     "execution_count": 7,
     "metadata": {},
     "output_type": "execute_result"
    },
    {
     "data": {
      "image/png": "[encoded data removed]",
      "text/plain": [
       "<Figure size 432x288 with 1 Axes>"
      ]
     },
     "metadata": {
      "needs_background": "light"
     },
     "output_type": "display_data"
    }
   ],
   "source": [
    "X_prime, Y_prime = SeedlessProcrustes().fit_transform(X, Y)\n",
    "plt.scatter(X_prime[:,0], X_prime[:,1])\n",
    "plt.scatter(Y_prime[:,0], Y_prime[:,1])\n",
    "plt.xlim(-1, 1)\n",
    "plt.ylim(-1, 1)"
   ]
  },
  {
   "cell_type": "code",
   "execution_count": 8,
   "metadata": {},
   "outputs": [
    {
     "data": {
      "text/plain": [
       "(-1.0, 1.0)"
      ]
     },
     "execution_count": 8,
     "metadata": {},
     "output_type": "execute_result"
    },
    {
     "data": {
      "image/png": "[encoded data removed]",
      "text/plain": [
       "<Figure size 432x288 with 1 Axes>"
      ]
     },
     "metadata": {
      "needs_background": "light"
     },
     "output_type": "display_data"
    }
   ],
   "source": [
    "X_prime, Y_prime = SignFlips().fit_transform(X, Y)\n",
    "plt.scatter(X_prime[:,0], X_prime[:,1])\n",
    "plt.scatter(Y_prime[:,0], Y_prime[:,1])\n",
    "plt.xlim(-1, 1)\n",
    "plt.ylim(-1, 1)"
   ]
  },
  {
   "cell_type": "code",
   "execution_count": null,
   "metadata": {},
   "outputs": [],
   "source": []
  }
 ],
 "metadata": {
  "kernelspec": {
   "display_name": "Python 3",
   "language": "python",
   "name": "python3"
  },
  "language_info": {
   "codemirror_mode": {
    "name": "ipython",
    "version": 3
   },
   "file_extension": ".py",
   "mimetype": "text/x-python",
   "name": "python",
   "nbconvert_exporter": "python",
   "pygments_lexer": "ipython3",
   "version": "3.7.3"
  }
 },
 "nbformat": 4,
 "nbformat_minor": 4
}
