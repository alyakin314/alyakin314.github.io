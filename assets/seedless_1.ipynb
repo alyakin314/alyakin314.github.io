{
 "cells": [
  {
   "cell_type": "code",
   "execution_count": 1,
   "metadata": {},
   "outputs": [],
   "source": [
    "%load_ext autoreload\n",
    "%autoreload 2\n",
    "%matplotlib inline \n",
    "import numpy as np\n",
    "import pandas as pd\n",
    "import seaborn as sns\n",
    "from scipy import stats\n",
    "import matplotlib.pyplot as plt\n",
    "from graspy.align import SeedlessProcrustes"
   ]
  },
  {
   "cell_type": "code",
   "execution_count": 2,
   "metadata": {},
   "outputs": [],
   "source": [
    "n, d = 250, 2\n",
    "def test_matching_datasets(seed=314):\n",
    "    np.random.seed(seed)\n",
    "    mean = np.ones(d) * 5\n",
    "    cov = np.ones((d,d))*0.02 + np.eye(d)*0.8\n",
    "    X = stats.multivariate_normal.rvs(mean, cov, n)\n",
    "    Y = np.concatenate([X, X])\n",
    "    W = stats.ortho_group.rvs(d)\n",
    "    Y = Y @ W\n",
    "\n",
    "    aligner = SeedlessProcrustes(initialization=\"2d\", initial_Q=np.eye(3))\n",
    "    Q = aligner.fit(X, Y).Q_X\n",
    "    np.linalg.norm(Y.mean(axis=0) - (X@Q).mean(axis=0)) < 0.01\n",
    "    return (X, Y, W, Q)"
   ]
  },
  {
   "cell_type": "code",
   "execution_count": 3,
   "metadata": {},
   "outputs": [
    {
     "name": "stdout",
     "output_type": "stream",
     "text": [
      "Warning: numerical errors at iteration 0\n",
      "Warning: numerical errors at iteration 0\n",
      "Warning: numerical errors at iteration 0\n",
      "Warning: numerical errors at iteration 0\n",
      "Warning: numerical errors at iteration 0\n",
      "Warning: numerical errors at iteration 0\n",
      "Warning: numerical errors at iteration 0\n",
      "Warning: numerical errors at iteration 0\n",
      "Warning: numerical errors at iteration 0\n",
      "Warning: numerical errors at iteration 0\n",
      "Warning: numerical errors at iteration 0\n",
      "Warning: numerical errors at iteration 0\n",
      "Warning: numerical errors at iteration 0\n",
      "Warning: numerical errors at iteration 0\n",
      "Warning: numerical errors at iteration 0\n",
      "Warning: numerical errors at iteration 0\n",
      "Warning: numerical errors at iteration 0\n",
      "Warning: numerical errors at iteration 0\n",
      "Warning: numerical errors at iteration 0\n",
      "Warning: numerical errors at iteration 0\n",
      "Warning: numerical errors at iteration 0\n",
      "Warning: numerical errors at iteration 0\n",
      "Warning: numerical errors at iteration 0\n",
      "Warning: numerical errors at iteration 0\n",
      "Warning: numerical errors at iteration 0\n",
      "Warning: numerical errors at iteration 0\n",
      "Warning: numerical errors at iteration 0\n",
      "Warning: numerical errors at iteration 0\n",
      "Warning: numerical errors at iteration 0\n",
      "Warning: numerical errors at iteration 0\n",
      "Warning: numerical errors at iteration 0\n",
      "Warning: numerical errors at iteration 0\n",
      "Warning: numerical errors at iteration 0\n",
      "Warning: numerical errors at iteration 0\n",
      "Warning: numerical errors at iteration 0\n",
      "Warning: numerical errors at iteration 0\n",
      "Warning: numerical errors at iteration 0\n",
      "Warning: numerical errors at iteration 0\n",
      "Warning: numerical errors at iteration 0\n",
      "Warning: numerical errors at iteration 0\n",
      "Warning: numerical errors at iteration 0\n",
      "Warning: numerical errors at iteration 0\n",
      "Warning: numerical errors at iteration 0\n",
      "Warning: numerical errors at iteration 0\n",
      "Warning: numerical errors at iteration 0\n",
      "Warning: numerical errors at iteration 0\n",
      "Warning: numerical errors at iteration 0\n",
      "Warning: numerical errors at iteration 0\n",
      "Warning: numerical errors at iteration 0\n",
      "Warning: numerical errors at iteration 0\n",
      "Warning: numerical errors at iteration 0\n",
      "Warning: numerical errors at iteration 0\n",
      "Warning: numerical errors at iteration 0\n",
      "Warning: numerical errors at iteration 0\n",
      "Warning: numerical errors at iteration 0\n",
      "Warning: numerical errors at iteration 0\n",
      "Warning: numerical errors at iteration 0\n",
      "Warning: numerical errors at iteration 0\n",
      "Warning: numerical errors at iteration 0\n",
      "Warning: numerical errors at iteration 0\n",
      "Warning: numerical errors at iteration 0\n",
      "Warning: numerical errors at iteration 0\n",
      "Warning: numerical errors at iteration 0\n",
      "Warning: numerical errors at iteration 0\n",
      "Warning: numerical errors at iteration 0\n",
      "Warning: numerical errors at iteration 0\n",
      "Warning: numerical errors at iteration 0\n",
      "Warning: numerical errors at iteration 0\n",
      "Warning: numerical errors at iteration 0\n",
      "Warning: numerical errors at iteration 0\n",
      "Warning: numerical errors at iteration 0\n",
      "Warning: numerical errors at iteration 0\n",
      "Warning: numerical errors at iteration 0\n",
      "Warning: numerical errors at iteration 0\n",
      "Warning: numerical errors at iteration 0\n",
      "Warning: numerical errors at iteration 0\n",
      "Warning: numerical errors at iteration 0\n",
      "Warning: numerical errors at iteration 0\n",
      "Warning: numerical errors at iteration 0\n",
      "Warning: numerical errors at iteration 0\n",
      "Warning: numerical errors at iteration 0\n",
      "Warning: numerical errors at iteration 0\n",
      "Warning: numerical errors at iteration 0\n",
      "Warning: numerical errors at iteration 0\n",
      "Warning: numerical errors at iteration 0\n",
      "Warning: numerical errors at iteration 0\n",
      "Warning: numerical errors at iteration 0\n",
      "Warning: numerical errors at iteration 0\n",
      "Warning: numerical errors at iteration 0\n",
      "Warning: numerical errors at iteration 0\n",
      "Warning: numerical errors at iteration 0\n",
      "Warning: numerical errors at iteration 0\n",
      "Warning: numerical errors at iteration 0\n",
      "Warning: numerical errors at iteration 0\n",
      "Warning: numerical errors at iteration 0\n",
      "Warning: numerical errors at iteration 0\n",
      "Warning: numerical errors at iteration 0\n",
      "Warning: numerical errors at iteration 0\n",
      "Warning: numerical errors at iteration 0\n",
      "Warning: numerical errors at iteration 0\n",
      "Warning: numerical errors at iteration 0\n"
     ]
    }
   ],
   "source": [
    "#%prun \n",
    "X, Y, W, Q = test_matching_datasets(seed=1233)"
   ]
  },
  {
   "cell_type": "code",
   "execution_count": 4,
   "metadata": {},
   "outputs": [
    {
     "data": {
      "text/plain": [
       "array([[ 0.48686936, -0.8734748 ],\n",
       "       [-0.8734748 , -0.48686936]])"
      ]
     },
     "execution_count": 4,
     "metadata": {},
     "output_type": "execute_result"
    }
   ],
   "source": [
    "W"
   ]
  },
  {
   "cell_type": "code",
   "execution_count": 5,
   "metadata": {},
   "outputs": [
    {
     "data": {
      "text/plain": [
       "array([[-0.88823116, -0.45939679],\n",
       "       [ 0.45939679, -0.88823116]])"
      ]
     },
     "execution_count": 5,
     "metadata": {},
     "output_type": "execute_result"
    }
   ],
   "source": [
    "Q"
   ]
  },
  {
   "cell_type": "code",
   "execution_count": 6,
   "metadata": {},
   "outputs": [
    {
     "data": {
      "text/html": [
       "<div>\n",
       "<style scoped>\n",
       "    .dataframe tbody tr th:only-of-type {\n",
       "        vertical-align: middle;\n",
       "    }\n",
       "\n",
       "    .dataframe tbody tr th {\n",
       "        vertical-align: top;\n",
       "    }\n",
       "\n",
       "    .dataframe thead th {\n",
       "        text-align: right;\n",
       "    }\n",
       "</style>\n",
       "<table border=\"1\" class=\"dataframe\">\n",
       "  <thead>\n",
       "    <tr style=\"text-align: right;\">\n",
       "      <th></th>\n",
       "      <th>0</th>\n",
       "      <th>1</th>\n",
       "      <th>label</th>\n",
       "    </tr>\n",
       "  </thead>\n",
       "  <tbody>\n",
       "    <tr>\n",
       "      <th>0</th>\n",
       "      <td>3.868882</td>\n",
       "      <td>5.320352</td>\n",
       "      <td>X</td>\n",
       "    </tr>\n",
       "    <tr>\n",
       "      <th>1</th>\n",
       "      <td>4.017505</td>\n",
       "      <td>4.714504</td>\n",
       "      <td>X</td>\n",
       "    </tr>\n",
       "    <tr>\n",
       "      <th>2</th>\n",
       "      <td>4.996966</td>\n",
       "      <td>5.390911</td>\n",
       "      <td>X</td>\n",
       "    </tr>\n",
       "    <tr>\n",
       "      <th>3</th>\n",
       "      <td>4.856434</td>\n",
       "      <td>4.543345</td>\n",
       "      <td>X</td>\n",
       "    </tr>\n",
       "    <tr>\n",
       "      <th>4</th>\n",
       "      <td>5.423263</td>\n",
       "      <td>3.713307</td>\n",
       "      <td>X</td>\n",
       "    </tr>\n",
       "    <tr>\n",
       "      <th>...</th>\n",
       "      <td>...</td>\n",
       "      <td>...</td>\n",
       "      <td>...</td>\n",
       "    </tr>\n",
       "    <tr>\n",
       "      <th>995</th>\n",
       "      <td>-3.292842</td>\n",
       "      <td>-5.334031</td>\n",
       "      <td>X@Q</td>\n",
       "    </tr>\n",
       "    <tr>\n",
       "      <th>996</th>\n",
       "      <td>-2.566792</td>\n",
       "      <td>-5.443312</td>\n",
       "      <td>X@Q</td>\n",
       "    </tr>\n",
       "    <tr>\n",
       "      <th>997</th>\n",
       "      <td>-0.439273</td>\n",
       "      <td>-6.255305</td>\n",
       "      <td>X@Q</td>\n",
       "    </tr>\n",
       "    <tr>\n",
       "      <th>998</th>\n",
       "      <td>-1.045250</td>\n",
       "      <td>-5.269262</td>\n",
       "      <td>X@Q</td>\n",
       "    </tr>\n",
       "    <tr>\n",
       "      <th>999</th>\n",
       "      <td>-1.478773</td>\n",
       "      <td>-8.027081</td>\n",
       "      <td>X@Q</td>\n",
       "    </tr>\n",
       "  </tbody>\n",
       "</table>\n",
       "<p>1000 rows × 3 columns</p>\n",
       "</div>"
      ],
      "text/plain": [
       "            0         1 label\n",
       "0    3.868882  5.320352     X\n",
       "1    4.017505  4.714504     X\n",
       "2    4.996966  5.390911     X\n",
       "3    4.856434  4.543345     X\n",
       "4    5.423263  3.713307     X\n",
       "..        ...       ...   ...\n",
       "995 -3.292842 -5.334031   X@Q\n",
       "996 -2.566792 -5.443312   X@Q\n",
       "997 -0.439273 -6.255305   X@Q\n",
       "998 -1.045250 -5.269262   X@Q\n",
       "999 -1.478773 -8.027081   X@Q\n",
       "\n",
       "[1000 rows x 3 columns]"
      ]
     },
     "execution_count": 6,
     "metadata": {},
     "output_type": "execute_result"
    }
   ],
   "source": [
    "data = np.concatenate([X, Y, X@Q])\n",
    "data = pd.DataFrame(data)\n",
    "data[\"label\"] = np.concatenate([['X']*n, ['Y']*n*2, ['X@Q']*n])\n",
    "data"
   ]
  },
  {
   "cell_type": "code",
   "execution_count": 7,
   "metadata": {},
   "outputs": [
    {
     "data": {
      "image/png": "[encoded data removed]",
      "text/plain": [
       "<Figure size 420.625x360 with 6 Axes>"
      ]
     },
     "metadata": {
      "needs_background": "light"
     },
     "output_type": "display_data"
    }
   ],
   "source": [
    "fig = sns.pairplot(data, hue='label')\n",
    "# plt.savefig(\"example where we fail\")"
   ]
  },
  {
   "cell_type": "code",
   "execution_count": 8,
   "metadata": {},
   "outputs": [
    {
     "data": {
      "text/plain": [
       "True"
      ]
     },
     "execution_count": 8,
     "metadata": {},
     "output_type": "execute_result"
    }
   ],
   "source": [
    "np.linalg.norm(Y.mean(axis=0) - (X@Q).mean(axis=0)) < 0.1"
   ]
  },
  {
   "cell_type": "code",
   "execution_count": 9,
   "metadata": {},
   "outputs": [
    {
     "data": {
      "text/plain": [
       "array([ 0.03488851, -0.01050583])"
      ]
     },
     "execution_count": 9,
     "metadata": {},
     "output_type": "execute_result"
    }
   ],
   "source": [
    "Y.mean(axis=0) - (X@Q).mean(axis=0)"
   ]
  },
  {
   "cell_type": "code",
   "execution_count": null,
   "metadata": {},
   "outputs": [],
   "source": []
  }
 ],
 "metadata": {
  "kernelspec": {
   "display_name": "Python 3",
   "language": "python",
   "name": "python3"
  },
  "language_info": {
   "codemirror_mode": {
    "name": "ipython",
    "version": 3
   },
   "file_extension": ".py",
   "mimetype": "text/x-python",
   "name": "python",
   "nbconvert_exporter": "python",
   "pygments_lexer": "ipython3",
   "version": "3.7.3"
  }
 },
 "nbformat": 4,
 "nbformat_minor": 4
}
